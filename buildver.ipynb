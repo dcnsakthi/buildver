{
 "cells": [
  {
   "cell_type": "code",
   "execution_count": 2,
   "metadata": {},
   "outputs": [],
   "source": [
    "def normalize_version(version, length=4, pad_front=False):\n",
    "    parts = version.split('.')\n",
    "    if pad_front:\n",
    "        while len(parts) < length:\n",
    "            parts.insert(0, '0')\n",
    "    else:\n",
    "        while len(parts) < length:\n",
    "            parts.append('0')\n",
    "    return parts[:length]"
   ]
  },
  {
   "cell_type": "code",
   "execution_count": 3,
   "metadata": {},
   "outputs": [],
   "source": [
    "def sum_versions(build_version, build_number):\n",
    "    build_version_parts = normalize_version(build_version)\n",
    "    build_number_parts = normalize_version(build_number, pad_front=True)\n",
    "    \n",
    "    result_parts = []\n",
    "    for bv, bn in zip(build_version_parts, build_number_parts):\n",
    "        result_parts.append(str(int(bv) + int(bn)))\n",
    "    \n",
    "    return '.'.join(result_parts)"
   ]
  },
  {
   "cell_type": "code",
   "execution_count": 5,
   "metadata": {},
   "outputs": [
    {
     "name": "stdout",
     "output_type": "stream",
     "text": [
      "1.0.5.541\n"
     ]
    }
   ],
   "source": [
    "build_version = \"1.0.0.0\"\n",
    "build_number = \"0.0.5.541.0.0\"\n",
    "envfullbuildVersion = sum_versions(build_version, build_number)\n",
    "print(envfullbuildVersion)  # Expected Output: 1.0.5.541"
   ]
  }
 ],
 "metadata": {
  "kernelspec": {
   "display_name": "Python 3",
   "language": "python",
   "name": "python3"
  },
  "language_info": {
   "codemirror_mode": {
    "name": "ipython",
    "version": 3
   },
   "file_extension": ".py",
   "mimetype": "text/x-python",
   "name": "python",
   "nbconvert_exporter": "python",
   "pygments_lexer": "ipython3",
   "version": "3.12.8"
  }
 },
 "nbformat": 4,
 "nbformat_minor": 2
}
